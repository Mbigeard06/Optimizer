{
 "cells": [
  {
   "cell_type": "code",
   "execution_count": 23,
   "metadata": {},
   "outputs": [],
   "source": [
    "import sys\n",
    "import os\n",
    "\n",
    "# Add the absolute path to the *src* folder\n",
    "project_root = os.path.abspath(\"..\")  # go up from /notebooks to project root\n",
    "src_path = os.path.join(project_root, \"src\")\n",
    "sys.path.append(src_path)\n",
    "\n",
    "# Now import without 'src.' prefix\n",
    "from optimizer import optimize_momentum\n",
    "from test_functions import sphere\n"
   ]
  },
  {
   "cell_type": "code",
   "execution_count": 19,
   "metadata": {},
   "outputs": [
    {
     "name": "stdout",
     "output_type": "stream",
     "text": [
      "Best x: [ 0.92231117 -2.48983697  1.4490317 ]\n",
      "Objective value: 9.149638901933573\n"
     ]
    }
   ],
   "source": [
    "func, grad = sphere(dim=3)\n",
    "best_x, history = optimize_momentum(func, grad, dim=3)\n",
    "print(\"Best x:\", best_x)\n",
    "print(\"Objective value:\", func(best_x))"
   ]
  }
 ],
 "metadata": {
  "kernelspec": {
   "display_name": "quant-opt-env",
   "language": "python",
   "name": "python3"
  },
  "language_info": {
   "codemirror_mode": {
    "name": "ipython",
    "version": 3
   },
   "file_extension": ".py",
   "mimetype": "text/x-python",
   "name": "python",
   "nbconvert_exporter": "python",
   "pygments_lexer": "ipython3",
   "version": "3.13.2"
  }
 },
 "nbformat": 4,
 "nbformat_minor": 2
}
